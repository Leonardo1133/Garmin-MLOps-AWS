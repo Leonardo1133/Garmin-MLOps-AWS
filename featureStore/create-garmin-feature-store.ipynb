{
 "cells": [
  {
   "cell_type": "markdown",
   "metadata": {},
   "source": [
    "# Feature Store\n",
    "En este notebook creamos un FS de nuestras actividades deportivas diarias. \n",
    "\n",
    "\n"
   ]
  },
  {
   "cell_type": "markdown",
   "metadata": {},
   "source": [
    "# Step 1: Set Up"
   ]
  },
  {
   "cell_type": "code",
   "execution_count": 2,
   "metadata": {},
   "outputs": [
    {
     "name": "stdout",
     "output_type": "stream",
     "text": [
      "Requirement already satisfied: sagemaker>=2.0.0 in /opt/conda/lib/python3.7/site-packages (2.88.1)\n",
      "Requirement already satisfied: protobuf3-to-dict>=0.1.5 in /opt/conda/lib/python3.7/site-packages (from sagemaker>=2.0.0) (0.1.5)\n",
      "Requirement already satisfied: smdebug-rulesconfig==1.0.1 in /opt/conda/lib/python3.7/site-packages (from sagemaker>=2.0.0) (1.0.1)\n",
      "Requirement already satisfied: numpy>=1.9.0 in /opt/conda/lib/python3.7/site-packages (from sagemaker>=2.0.0) (1.21.6)\n",
      "Requirement already satisfied: attrs==20.3.0 in /opt/conda/lib/python3.7/site-packages (from sagemaker>=2.0.0) (20.3.0)\n",
      "Requirement already satisfied: pandas in /opt/conda/lib/python3.7/site-packages (from sagemaker>=2.0.0) (1.0.1)\n",
      "Requirement already satisfied: protobuf>=3.1 in /opt/conda/lib/python3.7/site-packages (from sagemaker>=2.0.0) (3.20.1)\n",
      "Requirement already satisfied: packaging>=20.0 in /opt/conda/lib/python3.7/site-packages (from sagemaker>=2.0.0) (20.1)\n",
      "Requirement already satisfied: importlib-metadata>=1.4.0 in /opt/conda/lib/python3.7/site-packages (from sagemaker>=2.0.0) (1.5.0)\n",
      "Requirement already satisfied: pathos in /opt/conda/lib/python3.7/site-packages (from sagemaker>=2.0.0) (0.2.8)\n",
      "Requirement already satisfied: boto3>=1.20.21 in /opt/conda/lib/python3.7/site-packages (from sagemaker>=2.0.0) (1.22.2)\n",
      "Requirement already satisfied: google-pasta in /opt/conda/lib/python3.7/site-packages (from sagemaker>=2.0.0) (0.2.0)\n",
      "Requirement already satisfied: jmespath<2.0.0,>=0.7.1 in /opt/conda/lib/python3.7/site-packages (from boto3>=1.20.21->sagemaker>=2.0.0) (1.0.0)\n",
      "Requirement already satisfied: botocore<1.26.0,>=1.25.2 in /opt/conda/lib/python3.7/site-packages (from boto3>=1.20.21->sagemaker>=2.0.0) (1.25.2)\n",
      "Requirement already satisfied: s3transfer<0.6.0,>=0.5.0 in /opt/conda/lib/python3.7/site-packages (from boto3>=1.20.21->sagemaker>=2.0.0) (0.5.2)\n",
      "Requirement already satisfied: zipp>=0.5 in /opt/conda/lib/python3.7/site-packages (from importlib-metadata>=1.4.0->sagemaker>=2.0.0) (2.2.0)\n",
      "Requirement already satisfied: pyparsing>=2.0.2 in /opt/conda/lib/python3.7/site-packages (from packaging>=20.0->sagemaker>=2.0.0) (2.4.6)\n",
      "Requirement already satisfied: six in /opt/conda/lib/python3.7/site-packages (from packaging>=20.0->sagemaker>=2.0.0) (1.14.0)\n",
      "Requirement already satisfied: python-dateutil>=2.6.1 in /opt/conda/lib/python3.7/site-packages (from pandas->sagemaker>=2.0.0) (2.8.1)\n",
      "Requirement already satisfied: pytz>=2017.2 in /opt/conda/lib/python3.7/site-packages (from pandas->sagemaker>=2.0.0) (2019.3)\n",
      "Requirement already satisfied: ppft>=1.6.6.4 in /opt/conda/lib/python3.7/site-packages (from pathos->sagemaker>=2.0.0) (1.6.6.4)\n",
      "Requirement already satisfied: pox>=0.3.0 in /opt/conda/lib/python3.7/site-packages (from pathos->sagemaker>=2.0.0) (0.3.0)\n",
      "Requirement already satisfied: multiprocess>=0.70.12 in /opt/conda/lib/python3.7/site-packages (from pathos->sagemaker>=2.0.0) (0.70.12.2)\n",
      "Requirement already satisfied: dill>=0.3.4 in /opt/conda/lib/python3.7/site-packages (from pathos->sagemaker>=2.0.0) (0.3.4)\n",
      "Requirement already satisfied: urllib3<1.27,>=1.25.4 in /opt/conda/lib/python3.7/site-packages (from botocore<1.26.0,>=1.25.2->boto3>=1.20.21->sagemaker>=2.0.0) (1.26.9)\n",
      "\u001b[33mWARNING: Running pip as the 'root' user can result in broken permissions and conflicting behaviour with the system package manager. It is recommended to use a virtual environment instead: https://pip.pypa.io/warnings/venv\u001b[0m\u001b[33m\n",
      "\u001b[0m\u001b[33mWARNING: You are using pip version 22.0.4; however, version 22.1.2 is available.\n",
      "You should consider upgrading via the '/opt/conda/bin/python -m pip install --upgrade pip' command.\u001b[0m\u001b[33m\n",
      "\u001b[0mNote: you may need to restart the kernel to use updated packages.\n"
     ]
    }
   ],
   "source": [
    "# SageMaker Python SDK version 2.x is required\n",
    "import sagemaker\n",
    "import sys\n",
    "\n",
    "original_version = sagemaker.__version__\n",
    "%pip install 'sagemaker>=2.0.0'\n"
   ]
  },
  {
   "cell_type": "code",
   "execution_count": 3,
   "metadata": {},
   "outputs": [
    {
     "name": "stdout",
     "output_type": "stream",
     "text": [
      "Collecting numpy==1.19.5\n",
      "  Using cached numpy-1.19.5-cp37-cp37m-manylinux2010_x86_64.whl (14.8 MB)\n",
      "Installing collected packages: numpy\n",
      "  Attempting uninstall: numpy\n",
      "    Found existing installation: numpy 1.21.6\n",
      "    Uninstalling numpy-1.21.6:\n",
      "      Successfully uninstalled numpy-1.21.6\n",
      "Successfully installed numpy-1.19.5\n",
      "\u001b[33mWARNING: Running pip as the 'root' user can result in broken permissions and conflicting behaviour with the system package manager. It is recommended to use a virtual environment instead: https://pip.pypa.io/warnings/venv\u001b[0m\u001b[33m\n",
      "\u001b[0m\u001b[33mWARNING: You are using pip version 22.0.4; however, version 22.1.2 is available.\n",
      "You should consider upgrading via the '/opt/conda/bin/python -m pip install --upgrade pip' command.\u001b[0m\u001b[33m\n",
      "\u001b[0m"
     ]
    }
   ],
   "source": [
    "!pip3 install numpy==1.19.5"
   ]
  },
  {
   "cell_type": "code",
   "execution_count": 8,
   "metadata": {},
   "outputs": [],
   "source": [
    "import pandas as pd\n",
    "import numpy as np\n",
    "\n",
    "import boto3\n",
    "import io\n",
    "\n",
    "from sagemaker.session import Session\n",
    "from sagemaker import get_execution_role\n",
    "\n",
    "prefix = \"sagemaker-featurestore-garmin\"\n",
    "role = get_execution_role()\n",
    "\n",
    "sagemaker_session = sagemaker.Session()\n",
    "region = sagemaker_session.boto_region_name\n",
    "s3_bucket_name = sagemaker_session.default_bucket()"
   ]
  },
  {
   "cell_type": "code",
   "execution_count": 9,
   "metadata": {},
   "outputs": [
    {
     "data": {
      "text/plain": [
       "'sagemaker-us-east-1-007007875348'"
      ]
     },
     "execution_count": 9,
     "metadata": {},
     "output_type": "execute_result"
    }
   ],
   "source": [
    "s3_bucket_name"
   ]
  },
  {
   "cell_type": "markdown",
   "metadata": {},
   "source": [
    "# Step 2: Import Data\n",
    "Importamos los datos que fueron preprocesados en preprocessing.py\n",
    "\n"
   ]
  },
  {
   "cell_type": "code",
   "execution_count": 6,
   "metadata": {},
   "outputs": [],
   "source": [
    "# df = pd.read_csv(\"data.csv\", index=False)\n",
    "df = pd.read_csv(\"../data.csv\")\n",
    "del df['Unnamed: 0']"
   ]
  },
  {
   "cell_type": "code",
   "execution_count": 7,
   "metadata": {},
   "outputs": [
    {
     "data": {
      "text/html": [
       "<div>\n",
       "<style scoped>\n",
       "    .dataframe tbody tr th:only-of-type {\n",
       "        vertical-align: middle;\n",
       "    }\n",
       "\n",
       "    .dataframe tbody tr th {\n",
       "        vertical-align: top;\n",
       "    }\n",
       "\n",
       "    .dataframe thead th {\n",
       "        text-align: right;\n",
       "    }\n",
       "</style>\n",
       "<table border=\"1\" class=\"dataframe\">\n",
       "  <thead>\n",
       "    <tr style=\"text-align: right;\">\n",
       "      <th></th>\n",
       "      <th>startTimeLocal</th>\n",
       "      <th>movingDuration</th>\n",
       "      <th>averageHR</th>\n",
       "      <th>maxHR</th>\n",
       "      <th>calories</th>\n",
       "      <th>distance</th>\n",
       "      <th>duration</th>\n",
       "      <th>averageSpeed</th>\n",
       "      <th>maxSpeed</th>\n",
       "      <th>EventTime</th>\n",
       "      <th>activityName_Caminar</th>\n",
       "      <th>activityName_Cardio</th>\n",
       "      <th>activityName_Carrera</th>\n",
       "      <th>activityName_Entrenamiento de fuerza</th>\n",
       "    </tr>\n",
       "  </thead>\n",
       "  <tbody>\n",
       "    <tr>\n",
       "      <th>0</th>\n",
       "      <td>2019-04-27</td>\n",
       "      <td>2088.0</td>\n",
       "      <td>110.0</td>\n",
       "      <td>142.0</td>\n",
       "      <td>306.919776</td>\n",
       "      <td>3579.31</td>\n",
       "      <td>2308.742</td>\n",
       "      <td>1.550000</td>\n",
       "      <td>6.800049</td>\n",
       "      <td>1.654777e+09</td>\n",
       "      <td>1</td>\n",
       "      <td>0</td>\n",
       "      <td>0</td>\n",
       "      <td>0</td>\n",
       "    </tr>\n",
       "    <tr>\n",
       "      <th>1</th>\n",
       "      <td>2019-05-09</td>\n",
       "      <td>39.0</td>\n",
       "      <td>144.0</td>\n",
       "      <td>167.0</td>\n",
       "      <td>NaN</td>\n",
       "      <td>112.18</td>\n",
       "      <td>1245.555</td>\n",
       "      <td>0.090064</td>\n",
       "      <td>1.700000</td>\n",
       "      <td>1.654777e+09</td>\n",
       "      <td>0</td>\n",
       "      <td>1</td>\n",
       "      <td>0</td>\n",
       "      <td>0</td>\n",
       "    </tr>\n",
       "    <tr>\n",
       "      <th>2</th>\n",
       "      <td>2020-01-22</td>\n",
       "      <td>62.0</td>\n",
       "      <td>157.0</td>\n",
       "      <td>169.0</td>\n",
       "      <td>14.000000</td>\n",
       "      <td>157.83</td>\n",
       "      <td>66.290</td>\n",
       "      <td>2.381000</td>\n",
       "      <td>3.170000</td>\n",
       "      <td>1.654777e+09</td>\n",
       "      <td>0</td>\n",
       "      <td>0</td>\n",
       "      <td>1</td>\n",
       "      <td>0</td>\n",
       "    </tr>\n",
       "    <tr>\n",
       "      <th>3</th>\n",
       "      <td>2019-04-29</td>\n",
       "      <td>1741.0</td>\n",
       "      <td>135.0</td>\n",
       "      <td>148.0</td>\n",
       "      <td>327.922062</td>\n",
       "      <td>2912.31</td>\n",
       "      <td>1822.028</td>\n",
       "      <td>1.598000</td>\n",
       "      <td>4.260010</td>\n",
       "      <td>1.654777e+09</td>\n",
       "      <td>1</td>\n",
       "      <td>0</td>\n",
       "      <td>0</td>\n",
       "      <td>0</td>\n",
       "    </tr>\n",
       "    <tr>\n",
       "      <th>4</th>\n",
       "      <td>2019-05-19</td>\n",
       "      <td>1744.0</td>\n",
       "      <td>139.0</td>\n",
       "      <td>160.0</td>\n",
       "      <td>379.950454</td>\n",
       "      <td>2797.68</td>\n",
       "      <td>1764.769</td>\n",
       "      <td>1.585000</td>\n",
       "      <td>5.109863</td>\n",
       "      <td>1.654777e+09</td>\n",
       "      <td>1</td>\n",
       "      <td>0</td>\n",
       "      <td>0</td>\n",
       "      <td>0</td>\n",
       "    </tr>\n",
       "  </tbody>\n",
       "</table>\n",
       "</div>"
      ],
      "text/plain": [
       "  startTimeLocal  movingDuration  averageHR  maxHR    calories  distance  \\\n",
       "0     2019-04-27          2088.0      110.0  142.0  306.919776   3579.31   \n",
       "1     2019-05-09            39.0      144.0  167.0         NaN    112.18   \n",
       "2     2020-01-22            62.0      157.0  169.0   14.000000    157.83   \n",
       "3     2019-04-29          1741.0      135.0  148.0  327.922062   2912.31   \n",
       "4     2019-05-19          1744.0      139.0  160.0  379.950454   2797.68   \n",
       "\n",
       "   duration  averageSpeed  maxSpeed     EventTime  activityName_Caminar  \\\n",
       "0  2308.742      1.550000  6.800049  1.654777e+09                     1   \n",
       "1  1245.555      0.090064  1.700000  1.654777e+09                     0   \n",
       "2    66.290      2.381000  3.170000  1.654777e+09                     0   \n",
       "3  1822.028      1.598000  4.260010  1.654777e+09                     1   \n",
       "4  1764.769      1.585000  5.109863  1.654777e+09                     1   \n",
       "\n",
       "   activityName_Cardio  activityName_Carrera  \\\n",
       "0                    0                     0   \n",
       "1                    1                     0   \n",
       "2                    0                     1   \n",
       "3                    0                     0   \n",
       "4                    0                     0   \n",
       "\n",
       "   activityName_Entrenamiento de fuerza  \n",
       "0                                     0  \n",
       "1                                     0  \n",
       "2                                     0  \n",
       "3                                     0  \n",
       "4                                     0  "
      ]
     },
     "execution_count": 7,
     "metadata": {},
     "output_type": "execute_result"
    }
   ],
   "source": [
    "df.head()"
   ]
  },
  {
   "cell_type": "code",
   "execution_count": 8,
   "metadata": {},
   "outputs": [
    {
     "data": {
      "text/plain": [
       "startTimeLocal                           object\n",
       "movingDuration                          float64\n",
       "averageHR                               float64\n",
       "maxHR                                   float64\n",
       "calories                                float64\n",
       "distance                                float64\n",
       "duration                                float64\n",
       "averageSpeed                            float64\n",
       "maxSpeed                                float64\n",
       "EventTime                               float64\n",
       "activityName_Caminar                      int64\n",
       "activityName_Cardio                       int64\n",
       "activityName_Carrera                      int64\n",
       "activityName_Entrenamiento de fuerza      int64\n",
       "dtype: object"
      ]
     },
     "execution_count": 8,
     "metadata": {},
     "output_type": "execute_result"
    }
   ],
   "source": [
    "df.dtypes"
   ]
  },
  {
   "cell_type": "code",
   "execution_count": 29,
   "metadata": {},
   "outputs": [],
   "source": [
    "# df['activityName'] = df['activityName'].astype(str)\n",
    "# df.dtypes"
   ]
  },
  {
   "cell_type": "markdown",
   "metadata": {},
   "source": [
    "# Step 3: Create feature groups\n",
    "\n",
    "Creamos el Feature Group name para los datos importados, luego creamos un objeto para instanciar el FG."
   ]
  },
  {
   "cell_type": "code",
   "execution_count": 14,
   "metadata": {},
   "outputs": [],
   "source": [
    "import time\n",
    "from time import strftime, gmtime\n",
    "\n",
    "feature_group_name = 'garmin-feature-group-' + strftime('%d-%H-%M-%S', gmtime())"
   ]
  },
  {
   "cell_type": "code",
   "execution_count": 15,
   "metadata": {},
   "outputs": [
    {
     "data": {
      "text/plain": [
       "'garmin-feature-group-11-14-12-17'"
      ]
     },
     "metadata": {},
     "output_type": "display_data"
    }
   ],
   "source": [
    "display(feature_group_name)"
   ]
  },
  {
   "cell_type": "markdown",
   "metadata": {},
   "source": [
    "Instanciamos un objeto FeatureGroup para los datos garmin."
   ]
  },
  {
   "cell_type": "code",
   "execution_count": 2,
   "metadata": {},
   "outputs": [],
   "source": [
    "from sagemaker.feature_store.feature_group import FeatureGroup\n",
    "\n",
    "garmin_feature_group = FeatureGroup(\n",
    "    name=feature_group_name, \n",
    "    sagemaker_session=sagemaker_session\n",
    ")"
   ]
  },
  {
   "cell_type": "code",
   "execution_count": 133,
   "metadata": {},
   "outputs": [
    {
     "data": {
      "text/plain": [
       "FeatureGroup(name='garmin-feature-group-11-14-12-17', sagemaker_session=<sagemaker.session.Session object at 0x7f495d531150>, feature_definitions=[FeatureDefinition(feature_name='startTimeLocal', feature_type=<FeatureTypeEnum.INTEGRAL: 'Integral'>), FeatureDefinition(feature_name='movingDuration', feature_type=<FeatureTypeEnum.FRACTIONAL: 'Fractional'>), FeatureDefinition(feature_name='averageHR', feature_type=<FeatureTypeEnum.FRACTIONAL: 'Fractional'>), FeatureDefinition(feature_name='maxHR', feature_type=<FeatureTypeEnum.FRACTIONAL: 'Fractional'>), FeatureDefinition(feature_name='calories', feature_type=<FeatureTypeEnum.FRACTIONAL: 'Fractional'>), FeatureDefinition(feature_name='distance', feature_type=<FeatureTypeEnum.FRACTIONAL: 'Fractional'>), FeatureDefinition(feature_name='duration', feature_type=<FeatureTypeEnum.FRACTIONAL: 'Fractional'>), FeatureDefinition(feature_name='averageSpeed', feature_type=<FeatureTypeEnum.FRACTIONAL: 'Fractional'>), FeatureDefinition(feature_name='maxSpeed', feature_type=<FeatureTypeEnum.FRACTIONAL: 'Fractional'>), FeatureDefinition(feature_name='EventTime', feature_type=<FeatureTypeEnum.FRACTIONAL: 'Fractional'>), FeatureDefinition(feature_name='activityName_Caminar', feature_type=<FeatureTypeEnum.INTEGRAL: 'Integral'>), FeatureDefinition(feature_name='activityName_Cardio', feature_type=<FeatureTypeEnum.INTEGRAL: 'Integral'>), FeatureDefinition(feature_name='activityName_Carrera', feature_type=<FeatureTypeEnum.INTEGRAL: 'Integral'>), FeatureDefinition(feature_name='activityName_Entrenamiento de fuerza', feature_type=<FeatureTypeEnum.INTEGRAL: 'Integral'>)])"
      ]
     },
     "execution_count": 133,
     "metadata": {},
     "output_type": "execute_result"
    }
   ],
   "source": [
    "feature_group"
   ]
  },
  {
   "cell_type": "code",
   "execution_count": 137,
   "metadata": {},
   "outputs": [],
   "source": [
    "import time\n",
    "\n",
    "current_time_sec = int(round(time.time()))\n",
    "record_identifier_feature_name = \"startTimeLocal\""
   ]
  },
  {
   "cell_type": "markdown",
   "metadata": {},
   "source": [
    "Agregamos un EventTime feature en el dataframe. Es un parametro requerido para el FG.\n"
   ]
  },
  {
   "cell_type": "code",
   "execution_count": 16,
   "metadata": {},
   "outputs": [],
   "source": [
    "df[\"EventTime\"] = pd.Series([current_time_sec]*len(df), dtype=\"float64\")"
   ]
  },
  {
   "cell_type": "code",
   "execution_count": 36,
   "metadata": {},
   "outputs": [],
   "source": [
    "# Reemplazamos algunas categorias que se repiten con distintos nombres, pero son equivalentes para nuestro modelo\n",
    "df = df.replace(\n",
    "            {\n",
    "                'Caminata': 'Caminar', \n",
    "                'Las Heras Caminata': 'Caminar',\n",
    "                'Las Heras Caminar': 'Caminar',\n",
    "                'Caminar': 'Caminar',\n",
    "                'Mendoza Caminata': 'Caminar'\n",
    "            }\n",
    ")"
   ]
  },
  {
   "cell_type": "code",
   "execution_count": 37,
   "metadata": {},
   "outputs": [
    {
     "data": {
      "text/plain": [
       "array(['Caminar', 'Cardio', 'Carrera', 'Entrenamiento de fuerza'],\n",
       "      dtype=object)"
      ]
     },
     "execution_count": 37,
     "metadata": {},
     "output_type": "execute_result"
    }
   ],
   "source": [
    "df['activityName'].unique()"
   ]
  },
  {
   "cell_type": "code",
   "execution_count": 17,
   "metadata": {},
   "outputs": [
    {
     "data": {
      "text/plain": [
       "startTimeLocal                           0\n",
       "movingDuration                           0\n",
       "averageHR                                0\n",
       "maxHR                                    0\n",
       "calories                                25\n",
       "distance                                 0\n",
       "duration                                 0\n",
       "averageSpeed                             0\n",
       "maxSpeed                                 4\n",
       "EventTime                                0\n",
       "activityName_Caminar                     0\n",
       "activityName_Cardio                      0\n",
       "activityName_Carrera                     0\n",
       "activityName_Entrenamiento de fuerza     0\n",
       "dtype: int64"
      ]
     },
     "execution_count": 17,
     "metadata": {},
     "output_type": "execute_result"
    }
   ],
   "source": [
    "df.isnull().sum()"
   ]
  },
  {
   "cell_type": "markdown",
   "metadata": {},
   "source": [
    "Debido a problemas con la funcion 'load_feature_definitions' que no reconoce la col activityName, hacemos un encoding para pasarla a INT, con lo cual se resuelve el issue."
   ]
  },
  {
   "cell_type": "code",
   "execution_count": 42,
   "metadata": {},
   "outputs": [
    {
     "data": {
      "text/html": [
       "<div>\n",
       "<style scoped>\n",
       "    .dataframe tbody tr th:only-of-type {\n",
       "        vertical-align: middle;\n",
       "    }\n",
       "\n",
       "    .dataframe tbody tr th {\n",
       "        vertical-align: top;\n",
       "    }\n",
       "\n",
       "    .dataframe thead th {\n",
       "        text-align: right;\n",
       "    }\n",
       "</style>\n",
       "<table border=\"1\" class=\"dataframe\">\n",
       "  <thead>\n",
       "    <tr style=\"text-align: right;\">\n",
       "      <th></th>\n",
       "      <th>activityName_Caminar</th>\n",
       "      <th>activityName_Cardio</th>\n",
       "      <th>activityName_Carrera</th>\n",
       "      <th>activityName_Entrenamiento de fuerza</th>\n",
       "    </tr>\n",
       "  </thead>\n",
       "  <tbody>\n",
       "    <tr>\n",
       "      <th>0</th>\n",
       "      <td>1</td>\n",
       "      <td>0</td>\n",
       "      <td>0</td>\n",
       "      <td>0</td>\n",
       "    </tr>\n",
       "    <tr>\n",
       "      <th>1</th>\n",
       "      <td>0</td>\n",
       "      <td>1</td>\n",
       "      <td>0</td>\n",
       "      <td>0</td>\n",
       "    </tr>\n",
       "    <tr>\n",
       "      <th>2</th>\n",
       "      <td>0</td>\n",
       "      <td>0</td>\n",
       "      <td>1</td>\n",
       "      <td>0</td>\n",
       "    </tr>\n",
       "    <tr>\n",
       "      <th>3</th>\n",
       "      <td>1</td>\n",
       "      <td>0</td>\n",
       "      <td>0</td>\n",
       "      <td>0</td>\n",
       "    </tr>\n",
       "    <tr>\n",
       "      <th>4</th>\n",
       "      <td>1</td>\n",
       "      <td>0</td>\n",
       "      <td>0</td>\n",
       "      <td>0</td>\n",
       "    </tr>\n",
       "  </tbody>\n",
       "</table>\n",
       "</div>"
      ],
      "text/plain": [
       "   activityName_Caminar  activityName_Cardio  activityName_Carrera  \\\n",
       "0                     1                    0                     0   \n",
       "1                     0                    1                     0   \n",
       "2                     0                    0                     1   \n",
       "3                     1                    0                     0   \n",
       "4                     1                    0                     0   \n",
       "\n",
       "   activityName_Entrenamiento de fuerza  \n",
       "0                                     0  \n",
       "1                                     0  \n",
       "2                                     0  \n",
       "3                                     0  \n",
       "4                                     0  "
      ]
     },
     "execution_count": 42,
     "metadata": {},
     "output_type": "execute_result"
    }
   ],
   "source": [
    "# Hacemos un encoding basico para la variable activityName\n",
    "encoding_activityName_df = pd.get_dummies(df['activityName'], prefix_sep='_',prefix='activityName')\n",
    "encoding_activityName_df.head()"
   ]
  },
  {
   "cell_type": "code",
   "execution_count": 43,
   "metadata": {},
   "outputs": [
    {
     "data": {
      "text/html": [
       "<div>\n",
       "<style scoped>\n",
       "    .dataframe tbody tr th:only-of-type {\n",
       "        vertical-align: middle;\n",
       "    }\n",
       "\n",
       "    .dataframe tbody tr th {\n",
       "        vertical-align: top;\n",
       "    }\n",
       "\n",
       "    .dataframe thead th {\n",
       "        text-align: right;\n",
       "    }\n",
       "</style>\n",
       "<table border=\"1\" class=\"dataframe\">\n",
       "  <thead>\n",
       "    <tr style=\"text-align: right;\">\n",
       "      <th></th>\n",
       "      <th>activityName</th>\n",
       "      <th>startTimeLocal</th>\n",
       "      <th>movingDuration</th>\n",
       "      <th>averageHR</th>\n",
       "      <th>maxHR</th>\n",
       "      <th>calories</th>\n",
       "      <th>distance</th>\n",
       "      <th>duration</th>\n",
       "      <th>averageSpeed</th>\n",
       "      <th>maxSpeed</th>\n",
       "      <th>EventTime</th>\n",
       "      <th>activityName_Caminar</th>\n",
       "      <th>activityName_Cardio</th>\n",
       "      <th>activityName_Carrera</th>\n",
       "      <th>activityName_Entrenamiento de fuerza</th>\n",
       "    </tr>\n",
       "  </thead>\n",
       "  <tbody>\n",
       "    <tr>\n",
       "      <th>0</th>\n",
       "      <td>Caminar</td>\n",
       "      <td>2019-04-27</td>\n",
       "      <td>2088.0</td>\n",
       "      <td>110.0</td>\n",
       "      <td>142.0</td>\n",
       "      <td>306.919776</td>\n",
       "      <td>3579.31</td>\n",
       "      <td>2308.742</td>\n",
       "      <td>1.550000</td>\n",
       "      <td>6.800049</td>\n",
       "      <td>1.654777e+09</td>\n",
       "      <td>1</td>\n",
       "      <td>0</td>\n",
       "      <td>0</td>\n",
       "      <td>0</td>\n",
       "    </tr>\n",
       "    <tr>\n",
       "      <th>1</th>\n",
       "      <td>Cardio</td>\n",
       "      <td>2019-05-09</td>\n",
       "      <td>39.0</td>\n",
       "      <td>144.0</td>\n",
       "      <td>167.0</td>\n",
       "      <td>NaN</td>\n",
       "      <td>112.18</td>\n",
       "      <td>1245.555</td>\n",
       "      <td>0.090064</td>\n",
       "      <td>1.700000</td>\n",
       "      <td>1.654777e+09</td>\n",
       "      <td>0</td>\n",
       "      <td>1</td>\n",
       "      <td>0</td>\n",
       "      <td>0</td>\n",
       "    </tr>\n",
       "    <tr>\n",
       "      <th>2</th>\n",
       "      <td>Carrera</td>\n",
       "      <td>2020-01-22</td>\n",
       "      <td>62.0</td>\n",
       "      <td>157.0</td>\n",
       "      <td>169.0</td>\n",
       "      <td>14.000000</td>\n",
       "      <td>157.83</td>\n",
       "      <td>66.290</td>\n",
       "      <td>2.381000</td>\n",
       "      <td>3.170000</td>\n",
       "      <td>1.654777e+09</td>\n",
       "      <td>0</td>\n",
       "      <td>0</td>\n",
       "      <td>1</td>\n",
       "      <td>0</td>\n",
       "    </tr>\n",
       "    <tr>\n",
       "      <th>3</th>\n",
       "      <td>Caminar</td>\n",
       "      <td>2019-04-29</td>\n",
       "      <td>1741.0</td>\n",
       "      <td>135.0</td>\n",
       "      <td>148.0</td>\n",
       "      <td>327.922062</td>\n",
       "      <td>2912.31</td>\n",
       "      <td>1822.028</td>\n",
       "      <td>1.598000</td>\n",
       "      <td>4.260010</td>\n",
       "      <td>1.654777e+09</td>\n",
       "      <td>1</td>\n",
       "      <td>0</td>\n",
       "      <td>0</td>\n",
       "      <td>0</td>\n",
       "    </tr>\n",
       "    <tr>\n",
       "      <th>4</th>\n",
       "      <td>Caminar</td>\n",
       "      <td>2019-05-19</td>\n",
       "      <td>1744.0</td>\n",
       "      <td>139.0</td>\n",
       "      <td>160.0</td>\n",
       "      <td>379.950454</td>\n",
       "      <td>2797.68</td>\n",
       "      <td>1764.769</td>\n",
       "      <td>1.585000</td>\n",
       "      <td>5.109863</td>\n",
       "      <td>1.654777e+09</td>\n",
       "      <td>1</td>\n",
       "      <td>0</td>\n",
       "      <td>0</td>\n",
       "      <td>0</td>\n",
       "    </tr>\n",
       "  </tbody>\n",
       "</table>\n",
       "</div>"
      ],
      "text/plain": [
       "  activityName startTimeLocal  movingDuration  averageHR  maxHR    calories  \\\n",
       "0      Caminar     2019-04-27          2088.0      110.0  142.0  306.919776   \n",
       "1       Cardio     2019-05-09            39.0      144.0  167.0         NaN   \n",
       "2      Carrera     2020-01-22            62.0      157.0  169.0   14.000000   \n",
       "3      Caminar     2019-04-29          1741.0      135.0  148.0  327.922062   \n",
       "4      Caminar     2019-05-19          1744.0      139.0  160.0  379.950454   \n",
       "\n",
       "   distance  duration  averageSpeed  maxSpeed     EventTime  \\\n",
       "0   3579.31  2308.742      1.550000  6.800049  1.654777e+09   \n",
       "1    112.18  1245.555      0.090064  1.700000  1.654777e+09   \n",
       "2    157.83    66.290      2.381000  3.170000  1.654777e+09   \n",
       "3   2912.31  1822.028      1.598000  4.260010  1.654777e+09   \n",
       "4   2797.68  1764.769      1.585000  5.109863  1.654777e+09   \n",
       "\n",
       "   activityName_Caminar  activityName_Cardio  activityName_Carrera  \\\n",
       "0                     1                    0                     0   \n",
       "1                     0                    1                     0   \n",
       "2                     0                    0                     1   \n",
       "3                     1                    0                     0   \n",
       "4                     1                    0                     0   \n",
       "\n",
       "   activityName_Entrenamiento de fuerza  \n",
       "0                                     0  \n",
       "1                                     0  \n",
       "2                                     0  \n",
       "3                                     0  \n",
       "4                                     0  "
      ]
     },
     "execution_count": 43,
     "metadata": {},
     "output_type": "execute_result"
    }
   ],
   "source": [
    "# Concatenamos las nuevas variables al df\n",
    "df = pd.concat([df, encoding_activityName_df], axis=1)\n",
    "df.head()"
   ]
  },
  {
   "cell_type": "code",
   "execution_count": 45,
   "metadata": {},
   "outputs": [
    {
     "data": {
      "text/html": [
       "<div>\n",
       "<style scoped>\n",
       "    .dataframe tbody tr th:only-of-type {\n",
       "        vertical-align: middle;\n",
       "    }\n",
       "\n",
       "    .dataframe tbody tr th {\n",
       "        vertical-align: top;\n",
       "    }\n",
       "\n",
       "    .dataframe thead th {\n",
       "        text-align: right;\n",
       "    }\n",
       "</style>\n",
       "<table border=\"1\" class=\"dataframe\">\n",
       "  <thead>\n",
       "    <tr style=\"text-align: right;\">\n",
       "      <th></th>\n",
       "      <th>startTimeLocal</th>\n",
       "      <th>movingDuration</th>\n",
       "      <th>averageHR</th>\n",
       "      <th>maxHR</th>\n",
       "      <th>calories</th>\n",
       "      <th>distance</th>\n",
       "      <th>duration</th>\n",
       "      <th>averageSpeed</th>\n",
       "      <th>maxSpeed</th>\n",
       "      <th>EventTime</th>\n",
       "      <th>activityName_Caminar</th>\n",
       "      <th>activityName_Cardio</th>\n",
       "      <th>activityName_Carrera</th>\n",
       "      <th>activityName_Entrenamiento de fuerza</th>\n",
       "    </tr>\n",
       "  </thead>\n",
       "  <tbody>\n",
       "    <tr>\n",
       "      <th>0</th>\n",
       "      <td>2019-04-27</td>\n",
       "      <td>2088.0</td>\n",
       "      <td>110.0</td>\n",
       "      <td>142.0</td>\n",
       "      <td>306.919776</td>\n",
       "      <td>3579.31</td>\n",
       "      <td>2308.742</td>\n",
       "      <td>1.550000</td>\n",
       "      <td>6.800049</td>\n",
       "      <td>1.654777e+09</td>\n",
       "      <td>1</td>\n",
       "      <td>0</td>\n",
       "      <td>0</td>\n",
       "      <td>0</td>\n",
       "    </tr>\n",
       "    <tr>\n",
       "      <th>1</th>\n",
       "      <td>2019-05-09</td>\n",
       "      <td>39.0</td>\n",
       "      <td>144.0</td>\n",
       "      <td>167.0</td>\n",
       "      <td>NaN</td>\n",
       "      <td>112.18</td>\n",
       "      <td>1245.555</td>\n",
       "      <td>0.090064</td>\n",
       "      <td>1.700000</td>\n",
       "      <td>1.654777e+09</td>\n",
       "      <td>0</td>\n",
       "      <td>1</td>\n",
       "      <td>0</td>\n",
       "      <td>0</td>\n",
       "    </tr>\n",
       "    <tr>\n",
       "      <th>2</th>\n",
       "      <td>2020-01-22</td>\n",
       "      <td>62.0</td>\n",
       "      <td>157.0</td>\n",
       "      <td>169.0</td>\n",
       "      <td>14.000000</td>\n",
       "      <td>157.83</td>\n",
       "      <td>66.290</td>\n",
       "      <td>2.381000</td>\n",
       "      <td>3.170000</td>\n",
       "      <td>1.654777e+09</td>\n",
       "      <td>0</td>\n",
       "      <td>0</td>\n",
       "      <td>1</td>\n",
       "      <td>0</td>\n",
       "    </tr>\n",
       "    <tr>\n",
       "      <th>3</th>\n",
       "      <td>2019-04-29</td>\n",
       "      <td>1741.0</td>\n",
       "      <td>135.0</td>\n",
       "      <td>148.0</td>\n",
       "      <td>327.922062</td>\n",
       "      <td>2912.31</td>\n",
       "      <td>1822.028</td>\n",
       "      <td>1.598000</td>\n",
       "      <td>4.260010</td>\n",
       "      <td>1.654777e+09</td>\n",
       "      <td>1</td>\n",
       "      <td>0</td>\n",
       "      <td>0</td>\n",
       "      <td>0</td>\n",
       "    </tr>\n",
       "    <tr>\n",
       "      <th>4</th>\n",
       "      <td>2019-05-19</td>\n",
       "      <td>1744.0</td>\n",
       "      <td>139.0</td>\n",
       "      <td>160.0</td>\n",
       "      <td>379.950454</td>\n",
       "      <td>2797.68</td>\n",
       "      <td>1764.769</td>\n",
       "      <td>1.585000</td>\n",
       "      <td>5.109863</td>\n",
       "      <td>1.654777e+09</td>\n",
       "      <td>1</td>\n",
       "      <td>0</td>\n",
       "      <td>0</td>\n",
       "      <td>0</td>\n",
       "    </tr>\n",
       "  </tbody>\n",
       "</table>\n",
       "</div>"
      ],
      "text/plain": [
       "  startTimeLocal  movingDuration  averageHR  maxHR    calories  distance  \\\n",
       "0     2019-04-27          2088.0      110.0  142.0  306.919776   3579.31   \n",
       "1     2019-05-09            39.0      144.0  167.0         NaN    112.18   \n",
       "2     2020-01-22            62.0      157.0  169.0   14.000000    157.83   \n",
       "3     2019-04-29          1741.0      135.0  148.0  327.922062   2912.31   \n",
       "4     2019-05-19          1744.0      139.0  160.0  379.950454   2797.68   \n",
       "\n",
       "   duration  averageSpeed  maxSpeed     EventTime  activityName_Caminar  \\\n",
       "0  2308.742      1.550000  6.800049  1.654777e+09                     1   \n",
       "1  1245.555      0.090064  1.700000  1.654777e+09                     0   \n",
       "2    66.290      2.381000  3.170000  1.654777e+09                     0   \n",
       "3  1822.028      1.598000  4.260010  1.654777e+09                     1   \n",
       "4  1764.769      1.585000  5.109863  1.654777e+09                     1   \n",
       "\n",
       "   activityName_Cardio  activityName_Carrera  \\\n",
       "0                    0                     0   \n",
       "1                    1                     0   \n",
       "2                    0                     1   \n",
       "3                    0                     0   \n",
       "4                    0                     0   \n",
       "\n",
       "   activityName_Entrenamiento de fuerza  \n",
       "0                                     0  \n",
       "1                                     0  \n",
       "2                                     0  \n",
       "3                                     0  \n",
       "4                                     0  "
      ]
     },
     "execution_count": 45,
     "metadata": {},
     "output_type": "execute_result"
    }
   ],
   "source": [
    "# Eliminamos la variable activityName, porque ya fue reemplazada por otras tres variables\n",
    "df.drop('activityName', axis=1, inplace=True)\n",
    "df.head()"
   ]
  },
  {
   "cell_type": "code",
   "execution_count": 46,
   "metadata": {},
   "outputs": [],
   "source": [
    "# Guardamos el dataset preprocesado\n",
    "df.to_csv('../data.csv')"
   ]
  },
  {
   "cell_type": "code",
   "execution_count": 3,
   "metadata": {},
   "outputs": [],
   "source": [
    "# # df = pd.read_csv(\"data.csv\", index=False)\n",
    "# df = pd.read_csv(\"../data.csv\")\n",
    "# del df['Unnamed: 0']\n",
    "\n",
    "# display(df.head(3))\n",
    "# display(df.dtypes)"
   ]
  },
  {
   "cell_type": "code",
   "execution_count": 44,
   "metadata": {},
   "outputs": [],
   "source": [
    "# del df['startTimeLocal']"
   ]
  },
  {
   "cell_type": "markdown",
   "metadata": {},
   "source": [
    "Debido a que load_feature_definitions no reconoce la col 'startTimeLocal', hay que hacer algunas transfomaciones. Obtuvimos un buen resultado transformandola a INT."
   ]
  },
  {
   "cell_type": "code",
   "execution_count": 130,
   "metadata": {},
   "outputs": [
    {
     "data": {
      "text/plain": [
       "0      20190427\n",
       "1      20190509\n",
       "2      20200122\n",
       "3      20190429\n",
       "4      20190519\n",
       "         ...   \n",
       "130    20190523\n",
       "131    20200120\n",
       "132    20200116\n",
       "133    20200129\n",
       "134    20190418\n",
       "Name: startTimeLocal, Length: 135, dtype: int64"
      ]
     },
     "metadata": {},
     "output_type": "display_data"
    },
    {
     "data": {
      "text/html": [
       "<div>\n",
       "<style scoped>\n",
       "    .dataframe tbody tr th:only-of-type {\n",
       "        vertical-align: middle;\n",
       "    }\n",
       "\n",
       "    .dataframe tbody tr th {\n",
       "        vertical-align: top;\n",
       "    }\n",
       "\n",
       "    .dataframe thead th {\n",
       "        text-align: right;\n",
       "    }\n",
       "</style>\n",
       "<table border=\"1\" class=\"dataframe\">\n",
       "  <thead>\n",
       "    <tr style=\"text-align: right;\">\n",
       "      <th></th>\n",
       "      <th>startTimeLocal</th>\n",
       "      <th>movingDuration</th>\n",
       "      <th>averageHR</th>\n",
       "      <th>maxHR</th>\n",
       "      <th>calories</th>\n",
       "      <th>distance</th>\n",
       "      <th>duration</th>\n",
       "      <th>averageSpeed</th>\n",
       "      <th>maxSpeed</th>\n",
       "      <th>EventTime</th>\n",
       "      <th>activityName_Caminar</th>\n",
       "      <th>activityName_Cardio</th>\n",
       "      <th>activityName_Carrera</th>\n",
       "      <th>activityName_Entrenamiento de fuerza</th>\n",
       "    </tr>\n",
       "  </thead>\n",
       "  <tbody>\n",
       "    <tr>\n",
       "      <th>0</th>\n",
       "      <td>20190427</td>\n",
       "      <td>2088.0</td>\n",
       "      <td>110.0</td>\n",
       "      <td>142.0</td>\n",
       "      <td>306.919776</td>\n",
       "      <td>3579.31</td>\n",
       "      <td>2308.742</td>\n",
       "      <td>1.550000</td>\n",
       "      <td>6.800049</td>\n",
       "      <td>1.654777e+09</td>\n",
       "      <td>1</td>\n",
       "      <td>0</td>\n",
       "      <td>0</td>\n",
       "      <td>0</td>\n",
       "    </tr>\n",
       "    <tr>\n",
       "      <th>1</th>\n",
       "      <td>20190509</td>\n",
       "      <td>39.0</td>\n",
       "      <td>144.0</td>\n",
       "      <td>167.0</td>\n",
       "      <td>NaN</td>\n",
       "      <td>112.18</td>\n",
       "      <td>1245.555</td>\n",
       "      <td>0.090064</td>\n",
       "      <td>1.700000</td>\n",
       "      <td>1.654777e+09</td>\n",
       "      <td>0</td>\n",
       "      <td>1</td>\n",
       "      <td>0</td>\n",
       "      <td>0</td>\n",
       "    </tr>\n",
       "    <tr>\n",
       "      <th>2</th>\n",
       "      <td>20200122</td>\n",
       "      <td>62.0</td>\n",
       "      <td>157.0</td>\n",
       "      <td>169.0</td>\n",
       "      <td>14.000000</td>\n",
       "      <td>157.83</td>\n",
       "      <td>66.290</td>\n",
       "      <td>2.381000</td>\n",
       "      <td>3.170000</td>\n",
       "      <td>1.654777e+09</td>\n",
       "      <td>0</td>\n",
       "      <td>0</td>\n",
       "      <td>1</td>\n",
       "      <td>0</td>\n",
       "    </tr>\n",
       "  </tbody>\n",
       "</table>\n",
       "</div>"
      ],
      "text/plain": [
       "   startTimeLocal  movingDuration  averageHR  maxHR    calories  distance  \\\n",
       "0        20190427          2088.0      110.0  142.0  306.919776   3579.31   \n",
       "1        20190509            39.0      144.0  167.0         NaN    112.18   \n",
       "2        20200122            62.0      157.0  169.0   14.000000    157.83   \n",
       "\n",
       "   duration  averageSpeed  maxSpeed     EventTime  activityName_Caminar  \\\n",
       "0  2308.742      1.550000  6.800049  1.654777e+09                     1   \n",
       "1  1245.555      0.090064  1.700000  1.654777e+09                     0   \n",
       "2    66.290      2.381000  3.170000  1.654777e+09                     0   \n",
       "\n",
       "   activityName_Cardio  activityName_Carrera  \\\n",
       "0                    0                     0   \n",
       "1                    1                     0   \n",
       "2                    0                     1   \n",
       "\n",
       "   activityName_Entrenamiento de fuerza  \n",
       "0                                     0  \n",
       "1                                     0  \n",
       "2                                     0  "
      ]
     },
     "metadata": {},
     "output_type": "display_data"
    }
   ],
   "source": [
    "# Transformamos a datetime para poder usar la funcion strftime()\n",
    "df['startTimeLocal'] = pd.to_datetime(df['startTimeLocal']).dt.date\n",
    "\n",
    "# Cambiamos el formato de date (sin guiones) para poder usar astype(int)\n",
    "df['startTimeLocal'] = df['startTimeLocal'].apply(lambda x: x.strftime('%Y%m%d'))\n",
    "\n",
    "# Transformamos a INT\n",
    "df['startTimeLocal'] = df['startTimeLocal'].astype(int)\n",
    "\n",
    "display(df['startTimeLocal'])\n",
    "display(df.head(3))"
   ]
  },
  {
   "cell_type": "code",
   "execution_count": 139,
   "metadata": {},
   "outputs": [
    {
     "data": {
      "text/html": [
       "<div>\n",
       "<style scoped>\n",
       "    .dataframe tbody tr th:only-of-type {\n",
       "        vertical-align: middle;\n",
       "    }\n",
       "\n",
       "    .dataframe tbody tr th {\n",
       "        vertical-align: top;\n",
       "    }\n",
       "\n",
       "    .dataframe thead th {\n",
       "        text-align: right;\n",
       "    }\n",
       "</style>\n",
       "<table border=\"1\" class=\"dataframe\">\n",
       "  <thead>\n",
       "    <tr style=\"text-align: right;\">\n",
       "      <th></th>\n",
       "      <th>startTimeLocal</th>\n",
       "      <th>movingDuration</th>\n",
       "      <th>averageHR</th>\n",
       "      <th>maxHR</th>\n",
       "      <th>calories</th>\n",
       "      <th>distance</th>\n",
       "      <th>duration</th>\n",
       "      <th>averageSpeed</th>\n",
       "      <th>maxSpeed</th>\n",
       "      <th>EventTime</th>\n",
       "      <th>activityName_Caminar</th>\n",
       "      <th>activityName_Cardio</th>\n",
       "      <th>activityName_Carrera</th>\n",
       "      <th>activityName_fuerza</th>\n",
       "    </tr>\n",
       "  </thead>\n",
       "  <tbody>\n",
       "    <tr>\n",
       "      <th>0</th>\n",
       "      <td>20190427</td>\n",
       "      <td>2088.0</td>\n",
       "      <td>110.0</td>\n",
       "      <td>142.0</td>\n",
       "      <td>306.919776</td>\n",
       "      <td>3579.31</td>\n",
       "      <td>2308.742</td>\n",
       "      <td>1.550000</td>\n",
       "      <td>6.800049</td>\n",
       "      <td>1.654777e+09</td>\n",
       "      <td>1</td>\n",
       "      <td>0</td>\n",
       "      <td>0</td>\n",
       "      <td>0</td>\n",
       "    </tr>\n",
       "    <tr>\n",
       "      <th>1</th>\n",
       "      <td>20190509</td>\n",
       "      <td>39.0</td>\n",
       "      <td>144.0</td>\n",
       "      <td>167.0</td>\n",
       "      <td>NaN</td>\n",
       "      <td>112.18</td>\n",
       "      <td>1245.555</td>\n",
       "      <td>0.090064</td>\n",
       "      <td>1.700000</td>\n",
       "      <td>1.654777e+09</td>\n",
       "      <td>0</td>\n",
       "      <td>1</td>\n",
       "      <td>0</td>\n",
       "      <td>0</td>\n",
       "    </tr>\n",
       "    <tr>\n",
       "      <th>2</th>\n",
       "      <td>20200122</td>\n",
       "      <td>62.0</td>\n",
       "      <td>157.0</td>\n",
       "      <td>169.0</td>\n",
       "      <td>14.000000</td>\n",
       "      <td>157.83</td>\n",
       "      <td>66.290</td>\n",
       "      <td>2.381000</td>\n",
       "      <td>3.170000</td>\n",
       "      <td>1.654777e+09</td>\n",
       "      <td>0</td>\n",
       "      <td>0</td>\n",
       "      <td>1</td>\n",
       "      <td>0</td>\n",
       "    </tr>\n",
       "  </tbody>\n",
       "</table>\n",
       "</div>"
      ],
      "text/plain": [
       "   startTimeLocal  movingDuration  averageHR  maxHR    calories  distance  \\\n",
       "0        20190427          2088.0      110.0  142.0  306.919776   3579.31   \n",
       "1        20190509            39.0      144.0  167.0         NaN    112.18   \n",
       "2        20200122            62.0      157.0  169.0   14.000000    157.83   \n",
       "\n",
       "   duration  averageSpeed  maxSpeed     EventTime  activityName_Caminar  \\\n",
       "0  2308.742      1.550000  6.800049  1.654777e+09                     1   \n",
       "1  1245.555      0.090064  1.700000  1.654777e+09                     0   \n",
       "2    66.290      2.381000  3.170000  1.654777e+09                     0   \n",
       "\n",
       "   activityName_Cardio  activityName_Carrera  activityName_fuerza  \n",
       "0                    0                     0                    0  \n",
       "1                    1                     0                    0  \n",
       "2                    0                     1                    0  "
      ]
     },
     "execution_count": 139,
     "metadata": {},
     "output_type": "execute_result"
    }
   ],
   "source": [
    "# renombramos col 'activityName_Entrenamiento de fuerza' por errores en 'garmin_feature_group.create'\n",
    "df = df.rename({'activityName_Entrenamiento de fuerza': 'activityName_fuerza'}, axis='columns')\n",
    "df.head(3)"
   ]
  },
  {
   "cell_type": "markdown",
   "metadata": {},
   "source": [
    "Usamos la funcion load_feature_definitions para usar mas adelante en el FG create.\n"
   ]
  },
  {
   "cell_type": "code",
   "execution_count": 140,
   "metadata": {},
   "outputs": [
    {
     "data": {
      "text/plain": [
       "[FeatureDefinition(feature_name='startTimeLocal', feature_type=<FeatureTypeEnum.INTEGRAL: 'Integral'>),\n",
       " FeatureDefinition(feature_name='movingDuration', feature_type=<FeatureTypeEnum.FRACTIONAL: 'Fractional'>),\n",
       " FeatureDefinition(feature_name='averageHR', feature_type=<FeatureTypeEnum.FRACTIONAL: 'Fractional'>),\n",
       " FeatureDefinition(feature_name='maxHR', feature_type=<FeatureTypeEnum.FRACTIONAL: 'Fractional'>),\n",
       " FeatureDefinition(feature_name='calories', feature_type=<FeatureTypeEnum.FRACTIONAL: 'Fractional'>),\n",
       " FeatureDefinition(feature_name='distance', feature_type=<FeatureTypeEnum.FRACTIONAL: 'Fractional'>),\n",
       " FeatureDefinition(feature_name='duration', feature_type=<FeatureTypeEnum.FRACTIONAL: 'Fractional'>),\n",
       " FeatureDefinition(feature_name='averageSpeed', feature_type=<FeatureTypeEnum.FRACTIONAL: 'Fractional'>),\n",
       " FeatureDefinition(feature_name='maxSpeed', feature_type=<FeatureTypeEnum.FRACTIONAL: 'Fractional'>),\n",
       " FeatureDefinition(feature_name='EventTime', feature_type=<FeatureTypeEnum.FRACTIONAL: 'Fractional'>),\n",
       " FeatureDefinition(feature_name='activityName_Caminar', feature_type=<FeatureTypeEnum.INTEGRAL: 'Integral'>),\n",
       " FeatureDefinition(feature_name='activityName_Cardio', feature_type=<FeatureTypeEnum.INTEGRAL: 'Integral'>),\n",
       " FeatureDefinition(feature_name='activityName_Carrera', feature_type=<FeatureTypeEnum.INTEGRAL: 'Integral'>),\n",
       " FeatureDefinition(feature_name='activityName_fuerza', feature_type=<FeatureTypeEnum.INTEGRAL: 'Integral'>)]"
      ]
     },
     "execution_count": 140,
     "metadata": {},
     "output_type": "execute_result"
    }
   ],
   "source": [
    "garmin_feature_group.load_feature_definitions(data_frame=df)"
   ]
  },
  {
   "cell_type": "markdown",
   "metadata": {},
   "source": [
    "Creamos el FG\n"
   ]
  },
  {
   "cell_type": "code",
   "execution_count": 141,
   "metadata": {},
   "outputs": [
    {
     "data": {
      "text/plain": [
       "{'FeatureGroupArn': 'arn:aws:sagemaker:us-east-1:007007875348:feature-group/garmin-feature-group-11-14-12-17',\n",
       " 'ResponseMetadata': {'RequestId': '1528c94b-5151-44a1-9d2e-b65fa4510d08',\n",
       "  'HTTPStatusCode': 200,\n",
       "  'HTTPHeaders': {'x-amzn-requestid': '1528c94b-5151-44a1-9d2e-b65fa4510d08',\n",
       "   'content-type': 'application/x-amz-json-1.1',\n",
       "   'content-length': '109',\n",
       "   'date': 'Sat, 11 Jun 2022 16:01:05 GMT'},\n",
       "  'RetryAttempts': 0}}"
      ]
     },
     "execution_count": 141,
     "metadata": {},
     "output_type": "execute_result"
    }
   ],
   "source": [
    "garmin_feature_group.create(\n",
    "    s3_uri=f\"s3://{s3_bucket_name}/{prefix}\",\n",
    "    record_identifier_name=record_identifier_feature_name,\n",
    "    event_time_feature_name=\"EventTime\",\n",
    "    role_arn=role,\n",
    "    enable_online_store=True\n",
    ")"
   ]
  },
  {
   "cell_type": "code",
   "execution_count": 142,
   "metadata": {},
   "outputs": [
    {
     "data": {
      "text/plain": [
       "'startTimeLocal'"
      ]
     },
     "execution_count": 142,
     "metadata": {},
     "output_type": "execute_result"
    }
   ],
   "source": [
    "record_identifier_feature_name"
   ]
  },
  {
   "cell_type": "markdown",
   "metadata": {},
   "source": [
    "Para verificar el FG create usamos las APIs FeatureGroup.Describe y FeatureGroups.List \n"
   ]
  },
  {
   "cell_type": "code",
   "execution_count": 144,
   "metadata": {},
   "outputs": [
    {
     "data": {
      "text/plain": [
       "{'FeatureGroupArn': 'arn:aws:sagemaker:us-east-1:007007875348:feature-group/garmin-feature-group-11-14-12-17',\n",
       " 'FeatureGroupName': 'garmin-feature-group-11-14-12-17',\n",
       " 'RecordIdentifierFeatureName': 'startTimeLocal',\n",
       " 'EventTimeFeatureName': 'EventTime',\n",
       " 'FeatureDefinitions': [{'FeatureName': 'startTimeLocal',\n",
       "   'FeatureType': 'Integral'},\n",
       "  {'FeatureName': 'movingDuration', 'FeatureType': 'Fractional'},\n",
       "  {'FeatureName': 'averageHR', 'FeatureType': 'Fractional'},\n",
       "  {'FeatureName': 'maxHR', 'FeatureType': 'Fractional'},\n",
       "  {'FeatureName': 'calories', 'FeatureType': 'Fractional'},\n",
       "  {'FeatureName': 'distance', 'FeatureType': 'Fractional'},\n",
       "  {'FeatureName': 'duration', 'FeatureType': 'Fractional'},\n",
       "  {'FeatureName': 'averageSpeed', 'FeatureType': 'Fractional'},\n",
       "  {'FeatureName': 'maxSpeed', 'FeatureType': 'Fractional'},\n",
       "  {'FeatureName': 'EventTime', 'FeatureType': 'Fractional'},\n",
       "  {'FeatureName': 'activityName_Caminar', 'FeatureType': 'Integral'},\n",
       "  {'FeatureName': 'activityName_Cardio', 'FeatureType': 'Integral'},\n",
       "  {'FeatureName': 'activityName_Carrera', 'FeatureType': 'Integral'},\n",
       "  {'FeatureName': 'activityName_fuerza', 'FeatureType': 'Integral'}],\n",
       " 'CreationTime': datetime.datetime(2022, 6, 11, 16, 1, 6, 6000, tzinfo=tzlocal()),\n",
       " 'OnlineStoreConfig': {'EnableOnlineStore': True},\n",
       " 'OfflineStoreConfig': {'S3StorageConfig': {'S3Uri': 's3://sagemaker-us-east-1-007007875348/sagemaker-featurestore-garmin',\n",
       "   'ResolvedOutputS3Uri': 's3://sagemaker-us-east-1-007007875348/sagemaker-featurestore-garmin/007007875348/sagemaker/us-east-1/offline-store/garmin-feature-group-11-14-12-17-1654963266/data'},\n",
       "  'DisableGlueTableCreation': False,\n",
       "  'DataCatalogConfig': {'TableName': 'garmin-feature-group-11-14-12-17-1654963266',\n",
       "   'Catalog': 'AwsDataCatalog',\n",
       "   'Database': 'sagemaker_featurestore'}},\n",
       " 'RoleArn': 'arn:aws:iam::007007875348:role/SageMaker_RolExecute',\n",
       " 'FeatureGroupStatus': 'Created',\n",
       " 'ResponseMetadata': {'RequestId': 'e6d8ab87-8e64-4081-ba3f-3cea220eb96d',\n",
       "  'HTTPStatusCode': 200,\n",
       "  'HTTPHeaders': {'x-amzn-requestid': 'e6d8ab87-8e64-4081-ba3f-3cea220eb96d',\n",
       "   'content-type': 'application/x-amz-json-1.1',\n",
       "   'content-length': '2163',\n",
       "   'date': 'Sat, 11 Jun 2022 16:01:42 GMT'},\n",
       "  'RetryAttempts': 0}}"
      ]
     },
     "execution_count": 144,
     "metadata": {},
     "output_type": "execute_result"
    }
   ],
   "source": [
    "garmin_feature_group.describe()"
   ]
  },
  {
   "cell_type": "code",
   "execution_count": 145,
   "metadata": {},
   "outputs": [
    {
     "data": {
      "text/plain": [
       "{'FeatureGroupSummaries': [{'FeatureGroupName': 'garmin-feature-group-11-14-12-17',\n",
       "   'FeatureGroupArn': 'arn:aws:sagemaker:us-east-1:007007875348:feature-group/garmin-feature-group-11-14-12-17',\n",
       "   'CreationTime': datetime.datetime(2022, 6, 11, 16, 1, 6, 6000, tzinfo=tzlocal()),\n",
       "   'FeatureGroupStatus': 'Created'}],\n",
       " 'ResponseMetadata': {'RequestId': '58bcc680-6d67-4c2f-862e-115f9497da86',\n",
       "  'HTTPStatusCode': 200,\n",
       "  'HTTPHeaders': {'x-amzn-requestid': '58bcc680-6d67-4c2f-862e-115f9497da86',\n",
       "   'content-type': 'application/x-amz-json-1.1',\n",
       "   'content-length': '254',\n",
       "   'date': 'Sat, 11 Jun 2022 16:04:57 GMT'},\n",
       "  'RetryAttempts': 0}}"
      ]
     },
     "execution_count": 145,
     "metadata": {},
     "output_type": "execute_result"
    }
   ],
   "source": [
    "sagemaker_session.boto_session.client('sagemaker', region_name=region).list_feature_groups() # We use the boto client to list FeatureGroups"
   ]
  },
  {
   "cell_type": "markdown",
   "metadata": {},
   "source": [
    "# Step 4: Usamos ingest para cargar datos al FG\n",
    "\n"
   ]
  },
  {
   "cell_type": "code",
   "execution_count": 147,
   "metadata": {},
   "outputs": [
    {
     "name": "stdout",
     "output_type": "stream",
     "text": [
      "FeatureGroup garmin-feature-group-11-14-12-17 successfully created.\n"
     ]
    }
   ],
   "source": [
    "def check_feature_group_status(feature_group):\n",
    "    status = feature_group.describe().get(\"FeatureGroupStatus\")\n",
    "    while status == \"Creating\":\n",
    "        print(\"Waiting for Feature Group to be Created\")\n",
    "        time.sleep(5)\n",
    "        status = feature_group.describe().get(\"FeatureGroupStatus\")\n",
    "    print(f\"FeatureGroup {feature_group.name} successfully created.\")\n",
    "\n",
    "check_feature_group_status(garmin_feature_group)"
   ]
  },
  {
   "cell_type": "code",
   "execution_count": 148,
   "metadata": {},
   "outputs": [
    {
     "data": {
      "text/plain": [
       "IngestionManagerPandas(feature_group_name='garmin-feature-group-11-14-12-17', sagemaker_fs_runtime_client_config=<botocore.config.Config object at 0x7f495cae97d0>, max_workers=3, max_processes=1, profile_name=None, _async_result=<multiprocess.pool.MapResult object at 0x7f495c189350>, _processing_pool=<pool ProcessPool(ncpus=1)>, _failed_indices=[])"
      ]
     },
     "execution_count": 148,
     "metadata": {},
     "output_type": "execute_result"
    }
   ],
   "source": [
    "garmin_feature_group.ingest(\n",
    "    \n",
    "    data_frame=df, \n",
    "    max_workers=3, \n",
    "    wait=True\n",
    ")"
   ]
  },
  {
   "cell_type": "markdown",
   "metadata": {},
   "source": [
    "Llamamos al FG para leer un registro de la tabla cargada usando boto3.\n"
   ]
  },
  {
   "cell_type": "code",
   "execution_count": 11,
   "metadata": {},
   "outputs": [
    {
     "data": {
      "text/plain": [
       "{'ResponseMetadata': {'RequestId': 'd4896894-22ce-4a0f-a425-a815f4ed89de',\n",
       "  'HTTPStatusCode': 200,\n",
       "  'HTTPHeaders': {'x-amzn-requestid': 'd4896894-22ce-4a0f-a425-a815f4ed89de',\n",
       "   'content-type': 'application/json',\n",
       "   'content-length': '822',\n",
       "   'date': 'Sun, 12 Jun 2022 15:14:53 GMT'},\n",
       "  'RetryAttempts': 0},\n",
       " 'Record': [{'FeatureName': 'startTimeLocal', 'ValueAsString': '20190427'},\n",
       "  {'FeatureName': 'movingDuration', 'ValueAsString': '2088.0'},\n",
       "  {'FeatureName': 'averageHR', 'ValueAsString': '110.0'},\n",
       "  {'FeatureName': 'maxHR', 'ValueAsString': '142.0'},\n",
       "  {'FeatureName': 'calories', 'ValueAsString': '306.91977603925517'},\n",
       "  {'FeatureName': 'distance', 'ValueAsString': '3579.31'},\n",
       "  {'FeatureName': 'duration', 'ValueAsString': '2308.742'},\n",
       "  {'FeatureName': 'averageSpeed', 'ValueAsString': '1.5499999523162844'},\n",
       "  {'FeatureName': 'maxSpeed', 'ValueAsString': '6.800048828125'},\n",
       "  {'FeatureName': 'EventTime', 'ValueAsString': '1654776648.0'},\n",
       "  {'FeatureName': 'activityName_Caminar', 'ValueAsString': '1'},\n",
       "  {'FeatureName': 'activityName_Cardio', 'ValueAsString': '0'},\n",
       "  {'FeatureName': 'activityName_Carrera', 'ValueAsString': '0'},\n",
       "  {'FeatureName': 'activityName_fuerza', 'ValueAsString': '0'}]}"
      ]
     },
     "execution_count": 11,
     "metadata": {},
     "output_type": "execute_result"
    }
   ],
   "source": [
    "starttimelocal = 20190427\n",
    "feature_group_name = 'garmin-feature-group-11-14-12-17'\n",
    "\n",
    "sagemaker_client_leo = sagemaker_session.boto_session.client('sagemaker-featurestore-runtime', region_name=region)\n",
    "\n",
    "sample_record = sagemaker_client_leo.get_record(\n",
    "    \n",
    "        FeatureGroupName=feature_group_name, \n",
    "        RecordIdentifierValueAsString=str(starttimelocal)\n",
    ")\n",
    "\n",
    "sample_record"
   ]
  },
  {
   "cell_type": "markdown",
   "metadata": {},
   "source": [
    "Ahora leemos un batch de registros con batch_get_record\n"
   ]
  },
  {
   "cell_type": "code",
   "execution_count": 13,
   "metadata": {},
   "outputs": [],
   "source": [
    "all_records = sagemaker_session.boto_session.client(\"sagemaker-featurestore-runtime\", region_name=region).batch_get_record(\n",
    "    Identifiers=[\n",
    "        {\n",
    "            \"FeatureGroupName\": feature_group_name,\n",
    "            \"RecordIdentifiersValueAsString\": [\"20190427\", \"20200121\", \"20200205\", \"20200210\"],\n",
    "        },\n",
    "    ]\n",
    ")"
   ]
  },
  {
   "cell_type": "code",
   "execution_count": 14,
   "metadata": {},
   "outputs": [
    {
     "data": {
      "text/plain": [
       "{'ResponseMetadata': {'RequestId': 'a7100157-b546-46c5-bcf6-a81eda5fc484',\n",
       "  'HTTPStatusCode': 200,\n",
       "  'HTTPHeaders': {'x-amzn-requestid': 'a7100157-b546-46c5-bcf6-a81eda5fc484',\n",
       "   'content-type': 'application/json',\n",
       "   'content-length': '3699',\n",
       "   'date': 'Sun, 12 Jun 2022 15:19:22 GMT'},\n",
       "  'RetryAttempts': 0},\n",
       " 'Records': [{'FeatureGroupName': 'garmin-feature-group-11-14-12-17',\n",
       "   'RecordIdentifierValueAsString': '20200210',\n",
       "   'Record': [{'FeatureName': 'startTimeLocal', 'ValueAsString': '20200210'},\n",
       "    {'FeatureName': 'movingDuration', 'ValueAsString': '584.0'},\n",
       "    {'FeatureName': 'averageHR', 'ValueAsString': '133.0'},\n",
       "    {'FeatureName': 'maxHR', 'ValueAsString': '176.0'},\n",
       "    {'FeatureName': 'calories', 'ValueAsString': '119.0'},\n",
       "    {'FeatureName': 'distance', 'ValueAsString': '1030.22'},\n",
       "    {'FeatureName': 'duration', 'ValueAsString': '780.243'},\n",
       "    {'FeatureName': 'averageSpeed', 'ValueAsString': '1.3200000524520874'},\n",
       "    {'FeatureName': 'maxSpeed', 'ValueAsString': '3.0339999198913574'},\n",
       "    {'FeatureName': 'EventTime', 'ValueAsString': '1654776648.0'},\n",
       "    {'FeatureName': 'activityName_Caminar', 'ValueAsString': '0'},\n",
       "    {'FeatureName': 'activityName_Cardio', 'ValueAsString': '0'},\n",
       "    {'FeatureName': 'activityName_Carrera', 'ValueAsString': '1'},\n",
       "    {'FeatureName': 'activityName_fuerza', 'ValueAsString': '0'}]},\n",
       "  {'FeatureGroupName': 'garmin-feature-group-11-14-12-17',\n",
       "   'RecordIdentifierValueAsString': '20200121',\n",
       "   'Record': [{'FeatureName': 'startTimeLocal', 'ValueAsString': '20200121'},\n",
       "    {'FeatureName': 'movingDuration', 'ValueAsString': '72.942'},\n",
       "    {'FeatureName': 'averageHR', 'ValueAsString': '128.0'},\n",
       "    {'FeatureName': 'maxHR', 'ValueAsString': '140.0'},\n",
       "    {'FeatureName': 'calories', 'ValueAsString': '12.0'},\n",
       "    {'FeatureName': 'distance', 'ValueAsString': '200.47'},\n",
       "    {'FeatureName': 'duration', 'ValueAsString': '72.942'},\n",
       "    {'FeatureName': 'averageSpeed', 'ValueAsString': '2.7479999065399165'},\n",
       "    {'FeatureName': 'maxSpeed', 'ValueAsString': '3.378000020980835'},\n",
       "    {'FeatureName': 'EventTime', 'ValueAsString': '1654776648.0'},\n",
       "    {'FeatureName': 'activityName_Caminar', 'ValueAsString': '0'},\n",
       "    {'FeatureName': 'activityName_Cardio', 'ValueAsString': '0'},\n",
       "    {'FeatureName': 'activityName_Carrera', 'ValueAsString': '1'},\n",
       "    {'FeatureName': 'activityName_fuerza', 'ValueAsString': '0'}]},\n",
       "  {'FeatureGroupName': 'garmin-feature-group-11-14-12-17',\n",
       "   'RecordIdentifierValueAsString': '20190427',\n",
       "   'Record': [{'FeatureName': 'startTimeLocal', 'ValueAsString': '20190427'},\n",
       "    {'FeatureName': 'movingDuration', 'ValueAsString': '2088.0'},\n",
       "    {'FeatureName': 'averageHR', 'ValueAsString': '110.0'},\n",
       "    {'FeatureName': 'maxHR', 'ValueAsString': '142.0'},\n",
       "    {'FeatureName': 'calories', 'ValueAsString': '306.91977603925517'},\n",
       "    {'FeatureName': 'distance', 'ValueAsString': '3579.31'},\n",
       "    {'FeatureName': 'duration', 'ValueAsString': '2308.742'},\n",
       "    {'FeatureName': 'averageSpeed', 'ValueAsString': '1.5499999523162844'},\n",
       "    {'FeatureName': 'maxSpeed', 'ValueAsString': '6.800048828125'},\n",
       "    {'FeatureName': 'EventTime', 'ValueAsString': '1654776648.0'},\n",
       "    {'FeatureName': 'activityName_Caminar', 'ValueAsString': '1'},\n",
       "    {'FeatureName': 'activityName_Cardio', 'ValueAsString': '0'},\n",
       "    {'FeatureName': 'activityName_Carrera', 'ValueAsString': '0'},\n",
       "    {'FeatureName': 'activityName_fuerza', 'ValueAsString': '0'}]},\n",
       "  {'FeatureGroupName': 'garmin-feature-group-11-14-12-17',\n",
       "   'RecordIdentifierValueAsString': '20200205',\n",
       "   'Record': [{'FeatureName': 'startTimeLocal', 'ValueAsString': '20200205'},\n",
       "    {'FeatureName': 'movingDuration', 'ValueAsString': '3608.402'},\n",
       "    {'FeatureName': 'averageHR', 'ValueAsString': '119.0'},\n",
       "    {'FeatureName': 'maxHR', 'ValueAsString': '191.0'},\n",
       "    {'FeatureName': 'calories', 'ValueAsString': '691.0'},\n",
       "    {'FeatureName': 'distance', 'ValueAsString': '6330.9'},\n",
       "    {'FeatureName': 'duration', 'ValueAsString': '6426.427'},\n",
       "    {'FeatureName': 'averageSpeed', 'ValueAsString': '0.9850000143051147'},\n",
       "    {'FeatureName': 'maxSpeed', 'ValueAsString': '3.839999914169312'},\n",
       "    {'FeatureName': 'EventTime', 'ValueAsString': '1654776648.0'},\n",
       "    {'FeatureName': 'activityName_Caminar', 'ValueAsString': '1'},\n",
       "    {'FeatureName': 'activityName_Cardio', 'ValueAsString': '0'},\n",
       "    {'FeatureName': 'activityName_Carrera', 'ValueAsString': '0'},\n",
       "    {'FeatureName': 'activityName_fuerza', 'ValueAsString': '0'}]}],\n",
       " 'Errors': [],\n",
       " 'UnprocessedIdentifiers': []}"
      ]
     },
     "execution_count": 14,
     "metadata": {},
     "output_type": "execute_result"
    }
   ],
   "source": [
    "all_records"
   ]
  },
  {
   "cell_type": "markdown",
   "metadata": {},
   "source": [
    "# Step 4B: Ingestar nuevas actividades deportivas\n"
   ]
  },
  {
   "cell_type": "code",
   "execution_count": null,
   "metadata": {},
   "outputs": [],
   "source": []
  },
  {
   "cell_type": "code",
   "execution_count": null,
   "metadata": {},
   "outputs": [],
   "source": []
  },
  {
   "cell_type": "code",
   "execution_count": null,
   "metadata": {},
   "outputs": [],
   "source": []
  },
  {
   "cell_type": "code",
   "execution_count": null,
   "metadata": {},
   "outputs": [],
   "source": []
  }
 ],
 "metadata": {
  "instance_type": "ml.t3.medium",
  "kernelspec": {
   "display_name": "Python 3 (Data Science)",
   "language": "python",
   "name": "python3__SAGEMAKER_INTERNAL__arn:aws:sagemaker:us-east-1:081325390199:image/datascience-1.0"
  },
  "language_info": {
   "codemirror_mode": {
    "name": "ipython",
    "version": 3
   },
   "file_extension": ".py",
   "mimetype": "text/x-python",
   "name": "python",
   "nbconvert_exporter": "python",
   "pygments_lexer": "ipython3",
   "version": "3.7.10"
  }
 },
 "nbformat": 4,
 "nbformat_minor": 4
}
