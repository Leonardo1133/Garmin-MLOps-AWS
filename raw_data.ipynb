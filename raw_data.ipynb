{
  "nbformat": 4,
  "nbformat_minor": 0,
  "metadata": {
    "colab": {
      "name": "raw_data.ipynb",
      "provenance": [],
      "collapsed_sections": [],
      "mount_file_id": "1Tu08VYsq4nJyUb7VtKJ2wEHttOkkN88U",
      "authorship_tag": "ABX9TyNn/hsyKtpLc2FK2vMZKC1h",
      "include_colab_link": true
    },
    "kernelspec": {
      "name": "python3",
      "display_name": "Python 3"
    },
    "language_info": {
      "name": "python"
    }
  },
  "cells": [
    {
      "cell_type": "markdown",
      "metadata": {
        "id": "view-in-github",
        "colab_type": "text"
      },
      "source": [
        "<a href=\"https://colab.research.google.com/github/Leonardo1133/Garmin_MLOps/blob/main/raw_data.ipynb\" target=\"_parent\"><img src=\"https://colab.research.google.com/assets/colab-badge.svg\" alt=\"Open In Colab\"/></a>"
      ]
    },
    {
      "cell_type": "markdown",
      "source": [
        "# Download raw data\n",
        "\n",
        "En este notebook nos conectamos a la API de Garmin Connect para descargar los datos en formato Json, que luego usaremos para el modelo. A través de este Google Colab los datos pueden ser almacenados en drive directamente si le pasamos el path correcto en la celda que ejecuta el garmin-backup.\n",
        "\n",
        "En el siguiente link dejo la referencia de la herramienta: https://github.com/petergardfjall/garminexport/blob/master/README.md"
      ],
      "metadata": {
        "id": "WIG9ZDE1cOhZ"
      }
    },
    {
      "cell_type": "code",
      "execution_count": null,
      "metadata": {
        "colab": {
          "base_uri": "https://localhost:8080/"
        },
        "id": "Zeine5fQZibf",
        "outputId": "922bccdd-ae19-4764-e65a-eb41a80f9895"
      },
      "outputs": [
        {
          "output_type": "stream",
          "name": "stdout",
          "text": [
            "Collecting garminexport\n",
            "  Downloading garminexport-0.4.1-py3-none-any.whl (26 kB)\n",
            "Requirement already satisfied: python-dateutil~=2.4 in /usr/local/lib/python3.7/dist-packages (from garminexport) (2.8.2)\n",
            "Requirement already satisfied: requests<3,>=2.0 in /usr/local/lib/python3.7/dist-packages (from garminexport) (2.23.0)\n",
            "Requirement already satisfied: six>=1.5 in /usr/local/lib/python3.7/dist-packages (from python-dateutil~=2.4->garminexport) (1.15.0)\n",
            "Requirement already satisfied: idna<3,>=2.5 in /usr/local/lib/python3.7/dist-packages (from requests<3,>=2.0->garminexport) (2.10)\n",
            "Requirement already satisfied: urllib3!=1.25.0,!=1.25.1,<1.26,>=1.21.1 in /usr/local/lib/python3.7/dist-packages (from requests<3,>=2.0->garminexport) (1.24.3)\n",
            "Requirement already satisfied: chardet<4,>=3.0.2 in /usr/local/lib/python3.7/dist-packages (from requests<3,>=2.0->garminexport) (3.0.4)\n",
            "Requirement already satisfied: certifi>=2017.4.17 in /usr/local/lib/python3.7/dist-packages (from requests<3,>=2.0->garminexport) (2021.10.8)\n",
            "Installing collected packages: garminexport\n",
            "Successfully installed garminexport-0.4.1\n"
          ]
        }
      ],
      "source": [
        "!pip install garminexport"
      ]
    },
    {
      "cell_type": "code",
      "source": [
        "!pip install garminexport[cloudflare]"
      ],
      "metadata": {
        "colab": {
          "base_uri": "https://localhost:8080/"
        },
        "id": "JkmrIVGYZlk3",
        "outputId": "1d5b4d3f-9a7c-4c75-b03a-d942634eb77a"
      },
      "execution_count": null,
      "outputs": [
        {
          "output_type": "stream",
          "name": "stdout",
          "text": [
            "Requirement already satisfied: garminexport[cloudflare] in /usr/local/lib/python3.7/dist-packages (0.4.1)\n",
            "Requirement already satisfied: python-dateutil~=2.4 in /usr/local/lib/python3.7/dist-packages (from garminexport[cloudflare]) (2.8.2)\n",
            "Requirement already satisfied: requests<3,>=2.0 in /usr/local/lib/python3.7/dist-packages (from garminexport[cloudflare]) (2.23.0)\n",
            "Collecting cloudscraper~=1.2\n",
            "  Downloading cloudscraper-1.2.60-py2.py3-none-any.whl (97 kB)\n",
            "\u001b[K     |████████████████████████████████| 97 kB 3.6 MB/s \n",
            "\u001b[?25hRequirement already satisfied: pyparsing>=2.4.7 in /usr/local/lib/python3.7/dist-packages (from cloudscraper~=1.2->garminexport[cloudflare]) (3.0.9)\n",
            "Collecting requests-toolbelt>=0.9.1\n",
            "  Downloading requests_toolbelt-0.9.1-py2.py3-none-any.whl (54 kB)\n",
            "\u001b[K     |████████████████████████████████| 54 kB 2.4 MB/s \n",
            "\u001b[?25hRequirement already satisfied: six>=1.5 in /usr/local/lib/python3.7/dist-packages (from python-dateutil~=2.4->garminexport[cloudflare]) (1.15.0)\n",
            "Requirement already satisfied: urllib3!=1.25.0,!=1.25.1,<1.26,>=1.21.1 in /usr/local/lib/python3.7/dist-packages (from requests<3,>=2.0->garminexport[cloudflare]) (1.24.3)\n",
            "Requirement already satisfied: certifi>=2017.4.17 in /usr/local/lib/python3.7/dist-packages (from requests<3,>=2.0->garminexport[cloudflare]) (2021.10.8)\n",
            "Requirement already satisfied: chardet<4,>=3.0.2 in /usr/local/lib/python3.7/dist-packages (from requests<3,>=2.0->garminexport[cloudflare]) (3.0.4)\n",
            "Requirement already satisfied: idna<3,>=2.5 in /usr/local/lib/python3.7/dist-packages (from requests<3,>=2.0->garminexport[cloudflare]) (2.10)\n",
            "Installing collected packages: requests-toolbelt, cloudscraper\n",
            "Successfully installed cloudscraper-1.2.60 requests-toolbelt-0.9.1\n"
          ]
        }
      ]
    },
    {
      "cell_type": "markdown",
      "source": [
        "En el siguiente celda indicamos el mail y password para acceder a nuestra cuenta de Garmin Connect. Path es la ruta donde descargara todas las actividades registradas en nuestro \n"
      ],
      "metadata": {
        "id": "2lzD4818dqYk"
      }
    },
    {
      "cell_type": "code",
      "source": [
        "# Download de los datos raw\n",
        "!garmin-backup --backup-dir=path leo123@gmail.com"
      ],
      "metadata": {
        "id": "XJnCd6xnZlnq"
      },
      "execution_count": null,
      "outputs": []
    },
    {
      "cell_type": "code",
      "source": [
        ""
      ],
      "metadata": {
        "id": "B9wXe3zMZmJP"
      },
      "execution_count": null,
      "outputs": []
    }
  ]
}